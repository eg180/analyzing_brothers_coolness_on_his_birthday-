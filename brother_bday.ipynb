{
 "cells": [
  {
   "cell_type": "markdown",
   "metadata": {},
   "source": [
    "### Following the trend in coolness (or otherwise) as my brother ages ages.\n",
    "\n",
    "###### A birthday card, by Erick G."
   ]
  },
  {
   "cell_type": "code",
   "execution_count": 15,
   "metadata": {},
   "outputs": [],
   "source": [
    "import pandas as pd"
   ]
  },
  {
   "cell_type": "code",
   "execution_count": 26,
   "metadata": {},
   "outputs": [],
   "source": [
    "brother_data = pd.read_csv('/Users/1/Documents/luis_coolness_index.csv', delimiter=',') # import csv with data"
   ]
  },
  {
   "cell_type": "markdown",
   "metadata": {},
   "source": [
    "Of course, we first have to pull in the coolness index and take a quick glance at that. "
   ]
  },
  {
   "cell_type": "code",
   "execution_count": 27,
   "metadata": {},
   "outputs": [
    {
     "data": {
      "text/plain": [
       "0    69.0\n",
       "1    50.0\n",
       "2    65.0\n",
       "3    67.0\n",
       "4    68.0\n",
       "5    65.0\n",
       "6    60.0\n",
       "7     0.0\n",
       "8     NaN\n",
       "Name: coolness_index, dtype: float64"
      ]
     },
     "execution_count": 27,
     "metadata": {},
     "output_type": "execute_result"
    }
   ],
   "source": [
    "brother_data.coolness_index"
   ]
  },
  {
   "cell_type": "markdown",
   "metadata": {},
   "source": [
    "Above we have 8 data points which measured his coolness at different points in his life.\n",
    "\n",
    "Below, we will try to get a better understanding of these numbers as a whole."
   ]
  },
  {
   "cell_type": "code",
   "execution_count": 28,
   "metadata": {},
   "outputs": [
    {
     "data": {
      "text/plain": [
       "count     8.000000\n",
       "mean     55.500000\n",
       "std      23.244047\n",
       "min       0.000000\n",
       "25%      57.500000\n",
       "50%      65.000000\n",
       "75%      67.250000\n",
       "max      69.000000\n",
       "Name: coolness_index, dtype: float64"
      ]
     },
     "execution_count": 28,
     "metadata": {},
     "output_type": "execute_result"
    }
   ],
   "source": [
    "brother_data.coolness_index.describe()"
   ]
  },
  {
   "cell_type": "markdown",
   "metadata": {},
   "source": [
    "#### In looking at the coolness index, we see that, for the years measured, his max coolness was 69 out of 100. So on a scale of 0-100 (with 100 being the highest), he's only ever been '69 cool.'"
   ]
  },
  {
   "cell_type": "markdown",
   "metadata": {},
   "source": [
    "\n",
    "\n",
    "Let's see at what age he peaked."
   ]
  },
  {
   "cell_type": "code",
   "execution_count": 29,
   "metadata": {},
   "outputs": [
    {
     "name": "stdout",
     "output_type": "stream",
     "text": [
      "My brother peaked at the age of 0 with a 69.0 amount of coolness.\n"
     ]
    }
   ],
   "source": [
    "max_coolness = max(brother_data.coolness_index)\n",
    "\n",
    "index = 0\n",
    "for iteration in brother_data.coolness_index:\n",
    "    age = brother_data.age[index]\n",
    "    if iteration == max_coolness:\n",
    "        print(f'My brother peaked at the age of {age} with a {iteration} amount of coolness.')\n",
    "        index+=1\n",
    "    \n",
    "    else:\n",
    "        index+=1\n",
    "\n"
   ]
  },
  {
   "cell_type": "markdown",
   "metadata": {},
   "source": [
    "#### Interesting. So he peaked at birth. ¯\\_(ツ)_/¯\n",
    "\n",
    "So let's see the least cool he's ever been, at least based on the data we have:"
   ]
  },
  {
   "cell_type": "code",
   "execution_count": 31,
   "metadata": {},
   "outputs": [
    {
     "name": "stdout",
     "output_type": "stream",
     "text": [
      "0.0 was his lowest score.\n"
     ]
    }
   ],
   "source": [
    "lamest = min(brother_data.coolness_index)\n",
    "\n",
    "print(f'{lamest} was his lowest score.')"
   ]
  },
  {
   "cell_type": "markdown",
   "metadata": {},
   "source": [
    "Well, so far. ;)\n",
    "\n",
    "Out of curiosity, let's see to age this corresponds:"
   ]
  },
  {
   "cell_type": "code",
   "execution_count": 32,
   "metadata": {},
   "outputs": [
    {
     "name": "stdout",
     "output_type": "stream",
     "text": [
      "Your brother was the lamest at the age of 43 with a 0.0 amount of coolness.\n"
     ]
    }
   ],
   "source": [
    "index = 0\n",
    "for iteration in luis.coolness_index:\n",
    "    age = brother_data.age[index]\n",
    "    if iteration == lamest:\n",
    "        print(f'Your brother was the lamest at the age of {age} with a {iteration} amount of coolness.')\n",
    "        index+=1\n",
    "    \n",
    "    else:\n",
    "        index+=1\n"
   ]
  },
  {
   "cell_type": "markdown",
   "metadata": {},
   "source": [
    "#### That's exactly today--his birthday! I would do the calculations on here to prove that today is his 43rd birthday, but computers these days don't have enough computing power for such a task!"
   ]
  },
  {
   "cell_type": "markdown",
   "metadata": {},
   "source": [
    "### A little data visualization to make it more legit:"
   ]
  },
  {
   "cell_type": "code",
   "execution_count": 33,
   "metadata": {},
   "outputs": [
    {
     "data": {
      "image/png": "[encoded data removed]",
      "text/plain": [
       "<Figure size 432x432 with 3 Axes>"
      ]
     },
     "metadata": {
      "needs_background": "light"
     },
     "output_type": "display_data"
    }
   ],
   "source": [
    "import matplotlib.pyplot as plt\n",
    "\n",
    "import seaborn as sns\n",
    "\n",
    "plot = sns.jointplot(x='age', y='coolness_index', data=brother_data)"
   ]
  },
  {
   "cell_type": "markdown",
   "metadata": {},
   "source": [
    "Notice the nice hilly shape."
   ]
  },
  {
   "cell_type": "markdown",
   "metadata": {},
   "source": [
    "Happy birthday anyways, brother - here's to finding a new hill to climb!\n",
    "\n",
    "-Erick\n",
    "\n",
    "          /\\\n",
    "         /**\\\n",
    "        /****\\   /\\\n",
    "       /      \\ /**\\\n",
    "      /  /\\    /    \\        /\\    /\\  /\\      /\\            /\\/\\/\\  /\\\n",
    "     /  /  \\  /      \\      /  \\/\\/  \\/  \\  /\\/  \\/\\  /\\  /\\/ / /  \\/  \\\n",
    "    /  /    \\/ /\\     \\    /    \\ \\  /    \\/ /   /  \\/  \\/  \\  /    \\   \\\n",
    "   /  /      \\/  \\/\\   \\  /      \\    /   /    \\\n",
    "__/__/_______/___/__\\___\\__________________________________________________"
   ]
  },
  {
   "cell_type": "code",
   "execution_count": null,
   "metadata": {},
   "outputs": [],
   "source": []
  }
 ],
 "metadata": {
  "kernelspec": {
   "display_name": "Python 3",
   "language": "python",
   "name": "python3"
  },
  "language_info": {
   "codemirror_mode": {
    "name": "ipython",
    "version": 3
   },
   "file_extension": ".py",
   "mimetype": "text/x-python",
   "name": "python",
   "nbconvert_exporter": "python",
   "pygments_lexer": "ipython3",
   "version": "3.7.7"
  }
 },
 "nbformat": 4,
 "nbformat_minor": 4
}
